{
 "cells": [
  {
   "cell_type": "code",
   "execution_count": 4,
   "metadata": {},
   "outputs": [],
   "source": [
    "import numpy as np\n",
    "from h5 import HDFArchive\n",
    "from triqs.gf import *"
   ]
  },
  {
   "cell_type": "code",
   "execution_count": 40,
   "metadata": {},
   "outputs": [],
   "source": [
    "filename = \"nsp.h5\"\n",
    "with HDFArchive(filename, \"r\") as ar:\n",
    "    dmft_results = ar[\"DMFT_results\"]\n",
    "    n_iterations = ar[\"DMFT_results\"][\"iteration_count\"]\n",
    "    # 軌道ごとの密度行列の取得\n",
    "    orbital_resolved_dms = []\n",
    "    for it in range(n_iterations):\n",
    "        orbital_resolved_dm_it = ar[\"DMFT_results\"][\"Iterations\"][\n",
    "            \"density_matrix_it\" + str(it)\n",
    "        ]\n",
    "        flattened_array = {}\n",
    "        for key in orbital_resolved_dm_it:\n",
    "            flattened_array[key] = np.real(np.diag(orbital_resolved_dm_it[key]))\n",
    "        orbital_resolved_dms.append(flattened_array)"
   ]
  },
  {
   "cell_type": "code",
   "execution_count": 41,
   "metadata": {},
   "outputs": [
    {
     "data": {
      "text/plain": [
       "[{'down_0': array([0.60441953, 0.63586377, 0.59411558]),\n",
       "  'up_0': array([0.60863522, 0.62168026, 0.61529006])}]"
      ]
     },
     "execution_count": 41,
     "metadata": {},
     "output_type": "execute_result"
    }
   ],
   "source": [
    "orbital_resolved_dms"
   ]
  }
 ],
 "metadata": {
  "kernelspec": {
   "display_name": "triqsenv",
   "language": "python",
   "name": "python3"
  },
  "language_info": {
   "codemirror_mode": {
    "name": "ipython",
    "version": 3
   },
   "file_extension": ".py",
   "mimetype": "text/x-python",
   "name": "python",
   "nbconvert_exporter": "python",
   "pygments_lexer": "ipython3",
   "version": "3.10.12"
  }
 },
 "nbformat": 4,
 "nbformat_minor": 2
}
