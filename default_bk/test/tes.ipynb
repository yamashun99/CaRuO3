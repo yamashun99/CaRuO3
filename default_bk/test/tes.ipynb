{
 "cells": [
  {
   "cell_type": "code",
   "execution_count": 1,
   "metadata": {},
   "outputs": [
    {
     "name": "stdout",
     "output_type": "stream",
     "text": [
      "Warning: could not identify MPI environment!\n"
     ]
    },
    {
     "name": "stderr",
     "output_type": "stream",
     "text": [
      "Starting serial run at: 2024-09-23 12:25:38.038855\n"
     ]
    }
   ],
   "source": [
    "from itertools import *\n",
    "import numpy as np\n",
    "import triqs.utility.mpi as mpi\n",
    "from h5 import *\n",
    "from triqs.gf import *\n",
    "from triqs_dft_tools.sumk_dft import *\n",
    "from triqs_dft_tools.sumk_dft_tools import *\n",
    "from triqs.operators.util.hamiltonians import *\n",
    "from triqs.operators.util.U_matrix import *\n",
    "from triqs_cthyb import *\n",
    "import warnings\n",
    "from triqs.plot.mpl_interface import oplot, plt\n",
    "\n",
    "warnings.filterwarnings(\"ignore\", category=FutureWarning)"
   ]
  },
  {
   "cell_type": "code",
   "execution_count": 2,
   "metadata": {},
   "outputs": [
    {
     "name": "stdout",
     "output_type": "stream",
     "text": [
      "('offset', 10)\n"
     ]
    }
   ],
   "source": [
    "h_field = 0.0\n",
    "beta = 5\n",
    "filename = f\"nsp\"\n",
    "mesh = MeshImFreq(beta=beta, S=\"Fermion\", n_iw=1025)\n",
    "\n",
    "SK = SumkDFTTools(hdf_file=filename + \".h5\", use_dft_blocks=False, mesh=mesh)\n",
    "norb = 20\n",
    "\n",
    "# We analyze the block structure of the Hamiltonian\n",
    "Sigma = SK.block_structure.create_gf(mesh=mesh)\n",
    "\n",
    "SK.put_Sigma([Sigma])\n",
    "\n",
    "# Setup CTQMC Solver\n",
    "n_orb = SK.corr_shells[0][\"dim\"]\n",
    "spin_names = [\"up\", \"down\"]\n",
    "\n",
    "# Print some information on the master node\n",
    "Sigma_iw = 0\n",
    "block_structure = None\n",
    "if mpi.is_master_node():\n",
    "    ar = HDFArchive(filename + \".h5\", \"a\")\n",
    "    if not \"DMFT_results\" in ar:\n",
    "        ar.create_group(\"DMFT_results\")\n",
    "    if not \"Iterations\" in ar[\"DMFT_results\"]:\n",
    "        ar[\"DMFT_results\"].create_group(\"Iterations\")\n",
    "    if \"DMFT_input\" in ar:\n",
    "        block_structure = ar[\"DMFT_input\"][\"sumk_block_structure\"]\n",
    "    if \"iteration_count\" in ar[\"DMFT_results\"]:\n",
    "        iteration_offset = ar[\"DMFT_results\"][\"iteration_count\"] + 1\n",
    "        print((\"offset\", iteration_offset))\n",
    "        Sigma_iw = ar[\"DMFT_results\"][\"Iterations\"][\n",
    "            \"Sigma_it\" + str(iteration_offset - 1)\n",
    "        ]\n",
    "        SK.dc_imp = ar[\"DMFT_results\"][\"Iterations\"][\n",
    "            \"dc_imp\" + str(iteration_offset - 1)\n",
    "        ]\n",
    "        SK.dc_energ = ar[\"DMFT_results\"][\"Iterations\"][\n",
    "            \"dc_energ\" + str(iteration_offset - 1)\n",
    "        ]\n",
    "        SK.chemical_potential = ar[\"DMFT_results\"][\"Iterations\"][\n",
    "            \"chemical_potential\" + str(iteration_offset - 1)\n",
    "        ].real\n",
    "\n",
    "\n",
    "if block_structure:\n",
    "    SK.block_structure = block_structure\n",
    "else:\n",
    "    G = SK.extract_G_loc(transform_to_solver_blocks=False)\n",
    "    SK.analyse_block_structure_from_gf(G, threshold=1e-3)\n",
    "\n",
    "SK.put_Sigma(Sigma_imp=[Sigma_iw])\n",
    "\n",
    "ikarray = numpy.array(list(range(SK.n_k)))\n",
    "\n",
    "gf_csc = Gf(mesh=SK.mesh, target_shape=(norb, norb))\n",
    "G_latt_orb = BlockGf(\n",
    "    name_list=[\"up\", \"down\"], block_list=[gf_csc, gf_csc], make_copies=True\n",
    ")\n",
    "\n",
    "\n",
    "for ik in mpi.slice_array(ikarray):\n",
    "    G_latt_KS = SK.lattice_gf(ik=ik) * SK.bz_weights[ik]\n",
    "    for bname, gf in G_latt_orb:\n",
    "        gf += G_latt_KS[bname]\n",
    "        # gf += SK.downfold(ik, 0, bname, G_latt_KS[bname], gf, shells=\"all\", ir=0)"
   ]
  },
  {
   "cell_type": "code",
   "execution_count": 6,
   "metadata": {},
   "outputs": [
    {
     "data": {
      "text/plain": [
       "Green Function G composed of 2 blocks: \n",
       " Greens Function G_up with mesh Imaginary Freq Mesh with beta = 5, statistic = Fermion, n_iw = 1025, positive_only = false and target_shape (20, 20): \n",
       " \n",
       " Greens Function G_down with mesh Imaginary Freq Mesh with beta = 5, statistic = Fermion, n_iw = 1025, positive_only = false and target_shape (20, 20): \n",
       " "
      ]
     },
     "execution_count": 6,
     "metadata": {},
     "output_type": "execute_result"
    }
   ],
   "source": [
    "G_latt_orb"
   ]
  },
  {
   "cell_type": "code",
   "execution_count": 9,
   "metadata": {},
   "outputs": [
    {
     "data": {
      "text/plain": [
       "(15.665849444428188-2.074591628590981e-13j)"
      ]
     },
     "execution_count": 9,
     "metadata": {},
     "output_type": "execute_result"
    }
   ],
   "source": [
    "np.sum(G_latt_orb.density()[\"up\"]) + np.sum(G_latt_orb.density()[\"down\"])"
   ]
  },
  {
   "cell_type": "code",
   "execution_count": 11,
   "metadata": {},
   "outputs": [
    {
     "data": {
      "text/plain": [
       "(16.000377885010757-2.074591632315491e-13j)"
      ]
     },
     "execution_count": 11,
     "metadata": {},
     "output_type": "execute_result"
    }
   ],
   "source": [
    "np.sum(np.diag(G_latt_orb.density()[\"up\"])) + np.sum(\n",
    "    np.diag(G_latt_orb.density()[\"down\"])\n",
    ")"
   ]
  },
  {
   "cell_type": "code",
   "execution_count": 12,
   "metadata": {},
   "outputs": [
    {
     "data": {
      "text/plain": [
       "(8.093119526095704-1.0006836318412225e-13j)"
      ]
     },
     "execution_count": 12,
     "metadata": {},
     "output_type": "execute_result"
    }
   ],
   "source": [
    "np.sum(np.diag(G_latt_orb.density()[\"up\"]))"
   ]
  }
 ],
 "metadata": {
  "kernelspec": {
   "display_name": "triqsenv",
   "language": "python",
   "name": "python3"
  },
  "language_info": {
   "codemirror_mode": {
    "name": "ipython",
    "version": 3
   },
   "file_extension": ".py",
   "mimetype": "text/x-python",
   "name": "python",
   "nbconvert_exporter": "python",
   "pygments_lexer": "ipython3",
   "version": "3.10.12"
  }
 },
 "nbformat": 4,
 "nbformat_minor": 2
}
